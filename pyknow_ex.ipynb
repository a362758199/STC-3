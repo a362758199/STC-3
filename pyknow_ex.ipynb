{
  "nbformat": 4,
  "nbformat_minor": 0,
  "metadata": {
    "colab": {
      "name": "pyknow-ex.ipynb",
      "version": "0.3.2",
      "provenance": [],
      "collapsed_sections": []
    },
    "kernelspec": {
      "name": "python3",
      "display_name": "Python 3"
    }
  },
  "cells": [
    {
      "metadata": {
        "id": "XIwWsZPI8DUz",
        "colab_type": "code",
        "colab": {
          "base_uri": "https://localhost:8080/",
          "height": 67
        },
        "outputId": "7b049fc5-f755-454c-f826-e2e75db0c760"
      },
      "cell_type": "code",
      "source": [
        "!pip install pyknow\n"
      ],
      "execution_count": 4,
      "outputs": [
        {
          "output_type": "stream",
          "text": [
            "Requirement already satisfied: pyknow in /usr/local/lib/python3.6/dist-packages (1.7.0)\n",
            "Requirement already satisfied: schema==0.6.7 in /usr/local/lib/python3.6/dist-packages (from pyknow) (0.6.7)\n",
            "Requirement already satisfied: frozendict==1.2 in /usr/local/lib/python3.6/dist-packages (from pyknow) (1.2)\n"
          ],
          "name": "stdout"
        }
      ]
    },
    {
      "metadata": {
        "id": "E7Yr0ggVTm-y",
        "colab_type": "code",
        "colab": {}
      },
      "cell_type": "code",
      "source": [
        "from pyknow import *\n",
        "class Environment(Fact):\n",
        "    \"\"\" env \"\"\"\n",
        "    pass\n",
        "\n",
        "class Job(Fact):\n",
        "    \"\"\" job \"\"\"\n",
        "    pass\n",
        "class Feedback(Fact):\n",
        "    \"\"\"feedback\"\"\"\n",
        "\n",
        "class Solution(KnowledgeEngine):\n",
        "#-------------------------------------var-----------------------------\n",
        "    \n",
        "#---------------------------------environment-------------------------  \n",
        " \n",
        "    @Rule(OR(Environment(env = 'paper'),Environment(env = 'documents'),Environment(env = 'manurals'),Environment(env = 'textbooks')))\n",
        "          #or'manuals'or'document'or'textbook'\n",
        "    def verbal(self):\n",
        "        situation = 'verbal'\n",
        "        print('verbal')\n",
        "        \n",
        "    @Rule(OR(Environment(env = 'pictures'),Environment(env = 'illustrations'),Environment(env = 'photographs'),Environment(env = 'diagrams')))\n",
        "          #or'illustrations'or'photographs'or'diagrams'\n",
        "    def visual(self):\n",
        "        situation = 'visual'\n",
        "        print('visual')\n",
        "        \n",
        "    @Rule(OR(Environment(env = 'machines'),Environment(env = 'buildings'),Environment(env = 'tools')))\n",
        "          #or'buildings'or'tools'\n",
        "    def physicalObject(self):\n",
        "        situation = 'physicalObject'\n",
        "        print('physical object')\n",
        "            \n",
        "    @Rule(OR(Environment(env = 'numbers'),Environment(env = 'formulas'),Environment(env = 'computer programs')))\n",
        "          #or'formulas'or'computer programs'\n",
        "    def symbolic(self):\n",
        "        situation = 'symbolic'\n",
        "        print('symbolic')\n",
        " \n",
        "#-------------------------------stimulus_response-----------------\n",
        "  \n",
        "    @Rule(OR(Job(job = 'lecturing'),Job(job = 'advising'),Job(job = 'counselling')))\n",
        "    def oral(self):\n",
        "        response = 'oral'\n",
        "        print('oral')\n",
        "        \n",
        "    @Rule(OR(Job(job = 'building'),Job(job = 'repairing'),Job(job = 'troubleshooting')))\n",
        "    def handsOn(self):\n",
        "        response = 'handsOn'\n",
        "        print('hands-on')\n",
        "        \n",
        "    @Rule(OR(Job(job = 'writing'),Job(job = 'typing'),Job(job = 'drawing')))\n",
        "    def documented(self):\n",
        "        response = 'documented'\n",
        "        print('documented')\n",
        "        \n",
        "    @Rule(OR(Job(job = 'evaluating'),Job(job = 'reasoning'),Job(job = 'investigating')))\n",
        "    def analytical(self):\n",
        "        response = 'analytical'\n",
        "        print('analytical')\n",
        " \n",
        "#--------------------------------medium_advising----------------------\n",
        " \n",
        "    @Rule(AND(OR(Environment(env = 'paper'),Environment(env = 'documents'),Environment(env = 'manurals'),Environment(env = 'textbooks'))),(OR(Job(job = 'lecturing'),Job(job = 'advising'),Job(job = 'counselling'))),Feedback(feedback = 'y'))          \n",
        "    def rolePlayExercises(self):\n",
        "      #rule14\n",
        "        print('role-play exercises')\n",
        "    @Rule(AND(OR(Environment(env = 'paper'),Environment(env = 'documents'),Environment(env = 'manurals'),Environment(env = 'textbooks'))),(OR(Job(job = 'evaluating'),Job(job = 'reasoning'),Job(job = 'investigating'))),Feedback(feedback = 'y'))          \n",
        "    def lecture_tutorial(self):\n",
        "      #rule13\n",
        "        print('lecture_tutorial')\n",
        "    @Rule(AND(OR(Environment(env = 'pictures'),Environment(env = 'illustrations'),Environment(env = 'photographs'),Environment(env = 'diagrams'))),(OR(Job(job = 'lecturing'),Job(job = 'advising'),Job(job = 'counselling'))),Feedback(feedback = 'y'))          \n",
        "    def lecture_tutorial2(self):\n",
        "      #rule12\n",
        "        print('lecture_tutorial')\n",
        "    @Rule(AND(OR(Environment(env = 'pictures'),Environment(env = 'illustrations'),Environment(env = 'photographs'),Environment(env = 'diagrams'))),(OR(Job(job = 'writing'),Job(job = 'typing'),Job(job = 'drawing'))),Feedback(feedback = 'n'))          \n",
        "    def vediocassette(self):\n",
        "      #rule11\n",
        "        print('vediocassette')\n",
        "    @Rule(AND(OR(Environment(env = 'numbers'),Environment(env = 'formulas'),Environment(env = 'computer programs'))),(OR(Job(job = 'evaluating'),Job(job = 'reasoning'),Job(job = 'investigating'))),Feedback(feedback = 'y'))          \n",
        "    def lecture_tutorial3(self):\n",
        "      #rule10\n",
        "        print('lecture_tutorial')\n",
        "    @Rule(AND(OR(Environment(env = 'machines'),Environment(env = 'buildings'),Environment(env = 'tools'))),(OR(Job(job = 'building'),Job(job = 'repairing'),Job(job = 'troubleshooting'))),Feedback(feedback = 'y'))          \n",
        "    def workshop(self):\n",
        "      #rule9\n",
        "        print('workshop')\n",
        "    "
      ],
      "execution_count": 0,
      "outputs": []
    },
    {
      "metadata": {
        "id": "YiAoymfDqxJw",
        "colab_type": "code",
        "colab": {}
      },
      "cell_type": "code",
      "source": [
        ""
      ],
      "execution_count": 0,
      "outputs": []
    },
    {
      "metadata": {
        "id": "pdk_pQ4XTqdO",
        "colab_type": "code",
        "colab": {
          "base_uri": "https://localhost:8080/",
          "height": 118
        },
        "outputId": "561ecc97-4c73-4701-aec9-c1a89f722606"
      },
      "cell_type": "code",
      "source": [
        "engine = Solution()\n",
        "engine.reset()\n",
        "\n",
        "ask_env = input(\"Environment?: \")\n",
        "ask_job = input(\"Job?: \")\n",
        "ask_feedback = input(\"Feedback?(y/n)\")\n",
        "\n",
        "#engine.declare((Environment(env= ask_env)),(Job(job=ask_job)))\n",
        "engine.declare((Environment(env= ask_env)),(Job(job=ask_job)),(Feedback(feedback = ask_feedback)))\n",
        "engine.run()"
      ],
      "execution_count": 25,
      "outputs": [
        {
          "output_type": "stream",
          "text": [
            "Environment?: numbers\n",
            "Job?: reasoning\n",
            "Feedback?(y/n)y\n",
            "lecture_tutorial\n",
            "analytical\n",
            "symbolic\n"
          ],
          "name": "stdout"
        }
      ]
    }
  ]
}